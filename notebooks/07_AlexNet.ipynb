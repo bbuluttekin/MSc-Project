{
  "nbformat": 4,
  "nbformat_minor": 0,
  "metadata": {
    "colab": {
      "name": "07-AlexNet.ipynb",
      "provenance": [],
      "collapsed_sections": []
    },
    "kernelspec": {
      "name": "python3",
      "display_name": "Python 3"
    },
    "accelerator": "GPU"
  },
  "cells": [
    {
      "cell_type": "code",
      "metadata": {
        "id": "Q-voiO4CS8WX"
      },
      "source": [
        "!bash drive/My\\ Drive/datawithcred.sh"
      ],
      "execution_count": null,
      "outputs": []
    },
    {
      "cell_type": "code",
      "metadata": {
        "id": "tYbXFFnVTP5N"
      },
      "source": [
        "from pathlib import Path\n",
        "import tensorflow as tf\n",
        "import tensorflow_addons as tfa\n",
        "from src.data.make_dataset import GetDataset\n",
        "from src.core.cloud import CloudTrainer"
      ],
      "execution_count": null,
      "outputs": []
    },
    {
      "cell_type": "code",
      "metadata": {
        "id": "rBBgZwv-Uxbh"
      },
      "source": [
        "tf.random.set_seed(111)"
      ],
      "execution_count": null,
      "outputs": []
    },
    {
      "cell_type": "code",
      "metadata": {
        "id": "zt55QZhSTxiI"
      },
      "source": [
        "dt = GetDataset(image_dims=(224, 224))"
      ],
      "execution_count": null,
      "outputs": []
    },
    {
      "cell_type": "code",
      "metadata": {
        "id": "XXfnx6yeT8DS"
      },
      "source": [
        "train = dt.make_train_data(Path(\"chest_xray/train\"))"
      ],
      "execution_count": null,
      "outputs": []
    },
    {
      "cell_type": "code",
      "metadata": {
        "id": "ToWrRKGNUHr-"
      },
      "source": [
        "val = dt.make_train_data(Path(\"chest_xray/test\"))"
      ],
      "execution_count": null,
      "outputs": []
    },
    {
      "cell_type": "code",
      "metadata": {
        "id": "ux4mc-tYU6bM"
      },
      "source": [
        "trainer = CloudTrainer(experiment_name=\"AlexNet\", save_freq=100)"
      ],
      "execution_count": null,
      "outputs": []
    },
    {
      "cell_type": "code",
      "metadata": {
        "id": "xLHG6gxYVmX3"
      },
      "source": [
        "%load_ext tensorboard"
      ],
      "execution_count": null,
      "outputs": []
    },
    {
      "cell_type": "code",
      "metadata": {
        "id": "KhiB8x44Vqz9"
      },
      "source": [
        "%tensorboard --logdir=./drive/My\\ Drive/models --port=6006"
      ],
      "execution_count": null,
      "outputs": []
    },
    {
      "cell_type": "code",
      "metadata": {
        "id": "dxqqT2k0UMkd"
      },
      "source": [
        "def get_model():\n",
        "    model = tf.keras.Sequential(name=\"AlexNet\", layers=[\n",
        "        tf.keras.layers.Input(shape=(dt.width, dt.height, 3)),\n",
        "        tf.keras.layers.Conv2D(filters=96, kernel_size=(11,11), strides=(4,4), activation=\"relu\"),\n",
        "        tf.keras.layers.MaxPool2D(pool_size=(3,3), strides=(2,2)),\n",
        "        tf.keras.layers.Conv2D(filters=256, kernel_size=(5, 5), padding='same', activation=\"relu\"),\n",
        "        tf.keras.layers.MaxPool2D(pool_size=(3,3), strides=(2,2)),\n",
        "        tf.keras.layers.Conv2D(filters=384, kernel_size=(3, 3), padding='same', activation=\"relu\"),\n",
        "        tf.keras.layers.Conv2D(filters=384, kernel_size=(3, 3), padding='same', activation=\"relu\"),\n",
        "        tf.keras.layers.Conv2D(filters=256, kernel_size=(3, 3), padding='same', activation=\"relu\"),\n",
        "        tf.keras.layers.MaxPool2D(pool_size=(3,3), strides=(2,2)),\n",
        "        tf.keras.layers.Flatten(),\n",
        "        tf.keras.layers.Dense(4096, activation=\"relu\"),\n",
        "        tf.keras.layers.Dropout(0.5),\n",
        "        tf.keras.layers.Dense(4096, activation=\"relu\"),\n",
        "        tf.keras.layers.Dropout(0.5),\n",
        "        tf.keras.layers.Dense(1, activation=\"sigmoid\")\n",
        "    ])\n",
        "    return model"
      ],
      "execution_count": null,
      "outputs": []
    },
    {
      "cell_type": "code",
      "metadata": {
        "id": "flZCetOxVO48"
      },
      "source": [
        "trainer.add_keras_seq_model(get_model)"
      ],
      "execution_count": null,
      "outputs": []
    },
    {
      "cell_type": "code",
      "metadata": {
        "id": "R-c1Lz8Boezo"
      },
      "source": [
        "trainer.add_callbacks([tf.keras.callbacks.ReduceLROnPlateau(\n",
        "    monitor='val_loss', factor=0.1, patience=10)])"
      ],
      "execution_count": null,
      "outputs": []
    },
    {
      "cell_type": "code",
      "metadata": {
        "id": "evGLFYkqVcql"
      },
      "source": [
        "trainer.compile(\n",
        "    optimizer=tf.keras.optimizers.Adam(learning_rate=0.001),\n",
        "    loss=\"binary_crossentropy\",\n",
        "    metrics=[\"accuracy\",\n",
        "             tf.keras.metrics.Precision(name='precision'),\n",
        "             tf.keras.metrics.Recall(name='recall')\n",
        "             #tfa.metrics.F1Score(num_classes=1)\n",
        "             ]\n",
        ")"
      ],
      "execution_count": null,
      "outputs": []
    },
    {
      "cell_type": "code",
      "metadata": {
        "id": "kUt6k4-GVggm"
      },
      "source": [
        "trainer.fit(\n",
        "    train,\n",
        "    validation_data=val,\n",
        "    epochs=100\n",
        ")"
      ],
      "execution_count": null,
      "outputs": []
    },
    {
      "cell_type": "code",
      "metadata": {
        "id": "0fSeuAnTcbqi"
      },
      "source": [
        "trainer.model.summary()"
      ],
      "execution_count": null,
      "outputs": []
    },
    {
      "cell_type": "code",
      "metadata": {
        "id": "IcFRB5AEK2ev"
      },
      "source": [
        "train = dt.make_balaced_dataset(majority_class=\"chest_xray/train/PNEUMONIA\",\n",
        "                                minority_class=\"chest_xray/train/NORMAL\",\n",
        "                                transformations=[\n",
        "                                    dt.image_flip_left_right,\n",
        "                                    dt.image_central_crop,\n",
        "                                    dt.image_adjust_saturation\n",
        "                                ])"
      ],
      "execution_count": null,
      "outputs": []
    },
    {
      "cell_type": "code",
      "metadata": {
        "id": "Jvi5S2wXL5Lf"
      },
      "source": [
        "aug_trainer = CloudTrainer(experiment_name=\"AlexNet-balanced\", save_freq=100)"
      ],
      "execution_count": null,
      "outputs": []
    },
    {
      "cell_type": "code",
      "metadata": {
        "id": "uBHK21X5MG0J"
      },
      "source": [
        "aug_trainer.add_keras_seq_model(get_model)"
      ],
      "execution_count": null,
      "outputs": []
    },
    {
      "cell_type": "code",
      "metadata": {
        "id": "NWSTQZnTqXY2"
      },
      "source": [
        "aug_trainer.add_callbacks([tf.keras.callbacks.ReduceLROnPlateau(\n",
        "    monitor='val_loss', factor=0.1, patience=10, verbose=1)])"
      ],
      "execution_count": null,
      "outputs": []
    },
    {
      "cell_type": "code",
      "metadata": {
        "id": "MZaAglEoMKLR"
      },
      "source": [
        "aug_trainer.compile(\n",
        "    optimizer=tf.keras.optimizers.Adam(learning_rate=0.001),\n",
        "    loss=\"binary_crossentropy\",\n",
        "    metrics=[\"accuracy\",\n",
        "             tf.keras.metrics.Precision(name='precision'),\n",
        "             tf.keras.metrics.Recall(name='recall')]\n",
        ")"
      ],
      "execution_count": null,
      "outputs": []
    },
    {
      "cell_type": "code",
      "metadata": {
        "id": "IZv9l7BLMPyJ"
      },
      "source": [
        "aug_trainer.fit(\n",
        "    train,\n",
        "    validation_data=val,\n",
        "    epochs=100\n",
        ")"
      ],
      "execution_count": null,
      "outputs": []
    },
    {
      "cell_type": "code",
      "metadata": {
        "id": "fb8bhbIeMVVA"
      },
      "source": [
        "aug_trainer.model.summary()"
      ],
      "execution_count": null,
      "outputs": []
    }
  ]
}