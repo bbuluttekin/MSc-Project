{
  "nbformat": 4,
  "nbformat_minor": 0,
  "metadata": {
    "colab": {
      "name": "02-baseline-model-rf.ipynb",
      "provenance": [],
      "collapsed_sections": []
    },
    "kernelspec": {
      "name": "python3",
      "display_name": "Python 3"
    }
  },
  "cells": [
    {
      "cell_type": "code",
      "metadata": {
        "id": "_5HDXEgb_0BY",
        "colab_type": "code",
        "colab": {
          "base_uri": "https://localhost:8080/",
          "height": 127
        },
        "outputId": "cc705823-a946-4fcd-bcf8-34c745e22d5e"
      },
      "source": [
        "from google.colab import drive\n",
        "drive.mount('/content/drive')"
      ],
      "execution_count": null,
      "outputs": [
        {
          "output_type": "stream",
          "text": [
            "Go to this URL in a browser: https://accounts.google.com/o/oauth2/auth?client_id=947318989803-6bn6qk8qdgf4n4g3pfee6491hc0brc4i.apps.googleusercontent.com&redirect_uri=urn%3aietf%3awg%3aoauth%3a2.0%3aoob&response_type=code&scope=email%20https%3a%2f%2fwww.googleapis.com%2fauth%2fdocs.test%20https%3a%2f%2fwww.googleapis.com%2fauth%2fdrive%20https%3a%2f%2fwww.googleapis.com%2fauth%2fdrive.photos.readonly%20https%3a%2f%2fwww.googleapis.com%2fauth%2fpeopleapi.readonly\n",
            "\n",
            "Enter your authorization code:\n",
            "··········\n",
            "Mounted at /content/drive\n"
          ],
          "name": "stdout"
        }
      ]
    },
    {
      "cell_type": "code",
      "metadata": {
        "id": "tS2xiV7mqqVO",
        "colab_type": "code",
        "colab": {
          "base_uri": "https://localhost:8080/",
          "height": 197
        },
        "outputId": "7b967b3a-3b8f-443d-d29f-246ea8be82b8"
      },
      "source": [
        "!bash drive/My\\ Drive/datawithcred.sh"
      ],
      "execution_count": null,
      "outputs": [
        {
          "output_type": "stream",
          "text": [
            "Downloading chest-xray-pneumonia.zip to /content\n",
            "100% 2.29G/2.29G [00:28<00:00, 131MB/s]\n",
            "100% 2.29G/2.29G [00:28<00:00, 87.6MB/s]\n",
            "Cloning into 'MSc-Project'...\n",
            "remote: Enumerating objects: 121, done.\u001b[K\n",
            "remote: Counting objects: 100% (121/121), done.\u001b[K\n",
            "remote: Compressing objects: 100% (88/88), done.\u001b[K\n",
            "remote: Total 413 (delta 56), reused 90 (delta 26), pack-reused 292\u001b[K\n",
            "Receiving objects: 100% (413/413), 8.65 MiB | 33.92 MiB/s, done.\n",
            "Resolving deltas: 100% (187/187), done.\n"
          ],
          "name": "stdout"
        }
      ]
    },
    {
      "cell_type": "code",
      "metadata": {
        "id": "c131S6IWq0zP",
        "colab_type": "code",
        "colab": {}
      },
      "source": [
        "import numpy as np\n",
        "import pandas as pd\n",
        "import matplotlib.pyplot as plt\n",
        "import tensorflow as tf\n",
        "from tensorflow import keras\n",
        "import glob\n",
        "import pickle\n",
        "from pathlib import Path\n",
        "import gc\n",
        "from sklearn import svm\n",
        "from sklearn.ensemble import RandomForestClassifier\n",
        "from sklearn.model_selection import train_test_split, GridSearchCV\n",
        "from sklearn.metrics import accuracy_score\n",
        "from collections import Counter"
      ],
      "execution_count": null,
      "outputs": []
    },
    {
      "cell_type": "code",
      "metadata": {
        "id": "87fW6zKmrz0h",
        "colab_type": "code",
        "colab": {}
      },
      "source": [
        "data_dir = Path(\"/content/chest_xray\")\n",
        "\n",
        "train_dir = data_dir / \"train\"\n",
        "\n",
        "test_dir = data_dir / \"test\"\n",
        "\n",
        "val_dir = data_dir / \"val\"\n",
        "\n",
        "train_dir_normal = train_dir / \"NORMAL\"\n",
        "train_dir_pne = train_dir / \"PNEUMONIA\"\n",
        "\n",
        "test_dir_normal = test_dir / \"NORMAL\"\n",
        "test_dir_pne = test_dir / \"PNEUMONIA\"\n",
        "\n",
        "normal_val = val_dir / \"NORMAL\"\n",
        "val_dir_pne = val_dir / \"PNEUMONIA\""
      ],
      "execution_count": null,
      "outputs": []
    },
    {
      "cell_type": "code",
      "metadata": {
        "id": "RLjJxwInsFaU",
        "colab_type": "code",
        "colab": {}
      },
      "source": [
        "IMAGE_SIZE = 224"
      ],
      "execution_count": null,
      "outputs": []
    },
    {
      "cell_type": "code",
      "metadata": {
        "id": "Uu7b00A6sgH8",
        "colab_type": "code",
        "colab": {}
      },
      "source": [
        "def img_to_array(path_for_class_one, path_for_class_zero):\n",
        "  X = []\n",
        "  y = []\n",
        "  \n",
        "  for image in list(path_for_class_one.glob(\"*.jpeg\")):\n",
        "    img = keras.preprocessing.image.load_img(image, target_size=(IMAGE_SIZE, IMAGE_SIZE))\n",
        "    img = keras.preprocessing.image.img_to_array(img)\n",
        "    img = np.array(img).ravel()\n",
        "    img = img /255\n",
        "    X.append(img)\n",
        "    y.append(1)\n",
        "    \n",
        "    \n",
        "  for image in list(path_for_class_zero.glob(\"*.jpeg\")):\n",
        "    img = keras.preprocessing.image.load_img(image, target_size=(IMAGE_SIZE, IMAGE_SIZE))\n",
        "    img = keras.preprocessing.image.img_to_array(img)\n",
        "    img = np.array(img).ravel()\n",
        "    img = img /255\n",
        "    X.append(img)\n",
        "    y.append(0)\n",
        "    \n",
        "  X = np.array(X)\n",
        "  y = np.array(y)\n",
        "    \n",
        "  return X, y"
      ],
      "execution_count": null,
      "outputs": []
    },
    {
      "cell_type": "code",
      "metadata": {
        "id": "9rm6EtsY2NQZ",
        "colab_type": "code",
        "colab": {}
      },
      "source": [
        "X, y = img_to_array(train_dir_pne, train_dir_normal)"
      ],
      "execution_count": null,
      "outputs": []
    },
    {
      "cell_type": "code",
      "metadata": {
        "id": "tvcp7XQI-qPA",
        "colab_type": "code",
        "colab": {}
      },
      "source": [
        "#Randomly shuffle the dataset\n",
        "random_index = np.random.permutation(X.shape[0])\n",
        "X = X[random_index]\n",
        "y = y[random_index]"
      ],
      "execution_count": null,
      "outputs": []
    },
    {
      "cell_type": "code",
      "metadata": {
        "id": "HzrcMRrn8pGd",
        "colab_type": "code",
        "colab": {}
      },
      "source": [
        "X_train, X_test, y_train, y_test = train_test_split(X, y, test_size=0.33, random_state=42)"
      ],
      "execution_count": null,
      "outputs": []
    },
    {
      "cell_type": "code",
      "metadata": {
        "id": "iBFB59cbtrnx",
        "colab_type": "code",
        "colab": {
          "base_uri": "https://localhost:8080/",
          "height": 35
        },
        "outputId": "cc76e8a3-c9f8-4248-d4ce-cb8b1eeb9718"
      },
      "source": [
        "del X\n",
        "del y\n",
        "gc.collect()"
      ],
      "execution_count": null,
      "outputs": [
        {
          "output_type": "execute_result",
          "data": {
            "text/plain": [
              "21"
            ]
          },
          "metadata": {
            "tags": []
          },
          "execution_count": 10
        }
      ]
    },
    {
      "cell_type": "code",
      "metadata": {
        "id": "gfvnkxw0LjZ5",
        "colab_type": "code",
        "colab": {
          "base_uri": "https://localhost:8080/",
          "height": 35
        },
        "outputId": "ee7c3f1f-251c-4196-e57f-7334f5f139de"
      },
      "source": [
        "del X_test\n",
        "del y_test\n",
        "gc.collect()"
      ],
      "execution_count": null,
      "outputs": [
        {
          "output_type": "execute_result",
          "data": {
            "text/plain": [
              "0"
            ]
          },
          "metadata": {
            "tags": []
          },
          "execution_count": 12
        }
      ]
    },
    {
      "cell_type": "code",
      "metadata": {
        "id": "jiUZCE8YKDOE",
        "colab_type": "code",
        "colab": {
          "base_uri": "https://localhost:8080/",
          "height": 917
        },
        "outputId": "ca0d91f1-0f53-47b0-a228-23ca7cac0b6f"
      },
      "source": [
        "parameters = {'n_estimators':[100, 500], 'max_features':['sqrt', 'log2']}\n",
        "rf = RandomForestClassifier()\n",
        "clf = GridSearchCV(rf, parameters, cv=3, verbose=3)\n",
        "clf.fit(X, y)"
      ],
      "execution_count": null,
      "outputs": [
        {
          "output_type": "stream",
          "text": [
            "Fitting 3 folds for each of 4 candidates, totalling 12 fits\n",
            "[CV] max_features=sqrt, n_estimators=100 .............................\n"
          ],
          "name": "stdout"
        },
        {
          "output_type": "stream",
          "text": [
            "[Parallel(n_jobs=1)]: Using backend SequentialBackend with 1 concurrent workers.\n"
          ],
          "name": "stderr"
        },
        {
          "output_type": "stream",
          "text": [
            "[CV] . max_features=sqrt, n_estimators=100, score=0.953, total= 1.6min\n",
            "[CV] max_features=sqrt, n_estimators=100 .............................\n"
          ],
          "name": "stdout"
        },
        {
          "output_type": "stream",
          "text": [
            "[Parallel(n_jobs=1)]: Done   1 out of   1 | elapsed:  1.6min remaining:    0.0s\n"
          ],
          "name": "stderr"
        },
        {
          "output_type": "stream",
          "text": [
            "[CV] . max_features=sqrt, n_estimators=100, score=0.955, total= 1.8min\n",
            "[CV] max_features=sqrt, n_estimators=100 .............................\n"
          ],
          "name": "stdout"
        },
        {
          "output_type": "stream",
          "text": [
            "[Parallel(n_jobs=1)]: Done   2 out of   2 | elapsed:  3.4min remaining:    0.0s\n"
          ],
          "name": "stderr"
        },
        {
          "output_type": "stream",
          "text": [
            "[CV] . max_features=sqrt, n_estimators=100, score=0.951, total= 1.8min\n",
            "[CV] max_features=sqrt, n_estimators=500 .............................\n",
            "[CV] . max_features=sqrt, n_estimators=500, score=0.955, total= 8.1min\n",
            "[CV] max_features=sqrt, n_estimators=500 .............................\n",
            "[CV] . max_features=sqrt, n_estimators=500, score=0.959, total= 8.9min\n",
            "[CV] max_features=sqrt, n_estimators=500 .............................\n",
            "[CV] . max_features=sqrt, n_estimators=500, score=0.957, total= 8.7min\n",
            "[CV] max_features=log2, n_estimators=100 .............................\n",
            "[CV] . max_features=log2, n_estimators=100, score=0.951, total=   7.0s\n",
            "[CV] max_features=log2, n_estimators=100 .............................\n",
            "[CV] . max_features=log2, n_estimators=100, score=0.950, total=   5.9s\n",
            "[CV] max_features=log2, n_estimators=100 .............................\n",
            "[CV] . max_features=log2, n_estimators=100, score=0.955, total=   6.0s\n",
            "[CV] max_features=log2, n_estimators=500 .............................\n",
            "[CV] . max_features=log2, n_estimators=500, score=0.952, total=  22.9s\n",
            "[CV] max_features=log2, n_estimators=500 .............................\n",
            "[CV] . max_features=log2, n_estimators=500, score=0.953, total=  22.8s\n",
            "[CV] max_features=log2, n_estimators=500 .............................\n",
            "[CV] . max_features=log2, n_estimators=500, score=0.953, total=  23.6s\n"
          ],
          "name": "stdout"
        },
        {
          "output_type": "stream",
          "text": [
            "[Parallel(n_jobs=1)]: Done  12 out of  12 | elapsed: 32.5min finished\n"
          ],
          "name": "stderr"
        },
        {
          "output_type": "execute_result",
          "data": {
            "text/plain": [
              "GridSearchCV(cv=3, error_score=nan,\n",
              "             estimator=RandomForestClassifier(bootstrap=True, ccp_alpha=0.0,\n",
              "                                              class_weight=None,\n",
              "                                              criterion='gini', max_depth=None,\n",
              "                                              max_features='auto',\n",
              "                                              max_leaf_nodes=None,\n",
              "                                              max_samples=None,\n",
              "                                              min_impurity_decrease=0.0,\n",
              "                                              min_impurity_split=None,\n",
              "                                              min_samples_leaf=1,\n",
              "                                              min_samples_split=2,\n",
              "                                              min_weight_fraction_leaf=0.0,\n",
              "                                              n_estimators=100, n_jobs=None,\n",
              "                                              oob_score=False,\n",
              "                                              random_state=None, verbose=0,\n",
              "                                              warm_start=False),\n",
              "             iid='deprecated', n_jobs=None,\n",
              "             param_grid={'max_features': ['sqrt', 'log2'],\n",
              "                         'n_estimators': [100, 500]},\n",
              "             pre_dispatch='2*n_jobs', refit=True, return_train_score=False,\n",
              "             scoring=None, verbose=3)"
            ]
          },
          "metadata": {
            "tags": []
          },
          "execution_count": 28
        }
      ]
    },
    {
      "cell_type": "code",
      "metadata": {
        "id": "xQDZjxljKf4G",
        "colab_type": "code",
        "colab": {
          "base_uri": "https://localhost:8080/",
          "height": 35
        },
        "outputId": "aaada81c-0498-4a9f-dcdd-1aff9fc3ec6d"
      },
      "source": [
        "clf.best_params_"
      ],
      "execution_count": null,
      "outputs": [
        {
          "output_type": "execute_result",
          "data": {
            "text/plain": [
              "{'max_features': 'sqrt', 'n_estimators': 500}"
            ]
          },
          "metadata": {
            "tags": []
          },
          "execution_count": 29
        }
      ]
    },
    {
      "cell_type": "code",
      "metadata": {
        "id": "4JLoMAItrHWZ",
        "colab_type": "code",
        "colab": {
          "base_uri": "https://localhost:8080/",
          "height": 35
        },
        "outputId": "c116ca05-b80f-4b70-fbb8-8418f5873763"
      },
      "source": [
        "clf.best_score_"
      ],
      "execution_count": null,
      "outputs": [
        {
          "output_type": "execute_result",
          "data": {
            "text/plain": [
              "0.9568634937608813"
            ]
          },
          "metadata": {
            "tags": []
          },
          "execution_count": 30
        }
      ]
    },
    {
      "cell_type": "code",
      "metadata": {
        "id": "qlB1m1jHHQW2",
        "colab_type": "code",
        "colab": {}
      },
      "source": [
        "with open(\"drive/My Drive/models/rf_sqrt_500.pickle\", \"wb\") as model:\n",
        "    pickle.dump(clf, model)"
      ],
      "execution_count": null,
      "outputs": []
    },
    {
      "cell_type": "code",
      "metadata": {
        "id": "BgzCinearJ0b",
        "colab_type": "code",
        "colab": {
          "base_uri": "https://localhost:8080/",
          "height": 35
        },
        "outputId": "d09bfe5d-9888-4632-9b69-842e24d58893"
      },
      "source": [
        "Counter(y)"
      ],
      "execution_count": null,
      "outputs": [
        {
          "output_type": "execute_result",
          "data": {
            "text/plain": [
              "Counter({0: 1341, 1: 3875})"
            ]
          },
          "metadata": {
            "tags": []
          },
          "execution_count": 34
        }
      ]
    },
    {
      "cell_type": "code",
      "metadata": {
        "id": "_GMtYkiPrQVp",
        "colab_type": "code",
        "colab": {
          "base_uri": "https://localhost:8080/",
          "height": 35
        },
        "outputId": "93d6c4cd-9503-43af-f1c8-ad725f32f00b"
      },
      "source": [
        "2624 / (2624 + 870)"
      ],
      "execution_count": null,
      "outputs": [
        {
          "output_type": "execute_result",
          "data": {
            "text/plain": [
              "0.7510017172295363"
            ]
          },
          "metadata": {
            "tags": []
          },
          "execution_count": 33
        }
      ]
    }
  ]
}