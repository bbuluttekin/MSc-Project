{
  "nbformat": 4,
  "nbformat_minor": 0,
  "metadata": {
    "colab": {
      "name": "03-baseline-model-rf-eval.ipynb",
      "provenance": [],
      "collapsed_sections": []
    },
    "kernelspec": {
      "name": "python3",
      "display_name": "Python 3"
    }
  },
  "cells": [
    {
      "cell_type": "markdown",
      "metadata": {
        "id": "qxbh6eNLvBox",
        "colab_type": "text"
      },
      "source": [
        "# Model Evaluation for Random Forest Classifier"
      ]
    },
    {
      "cell_type": "code",
      "metadata": {
        "id": "ITptHhcXJtNZ",
        "colab_type": "code",
        "colab": {}
      },
      "source": [
        "!bash drive/My\\ Drive/datawithcred.sh"
      ],
      "execution_count": null,
      "outputs": []
    },
    {
      "cell_type": "code",
      "metadata": {
        "id": "okvEUGX7KBkd",
        "colab_type": "code",
        "colab": {}
      },
      "source": [
        "import pickle\n",
        "from pathlib import Path\n",
        "from src.data.make_array import img_to_array\n",
        "import matplotlib.pyplot as plt\n",
        "from sklearn.metrics import accuracy_score, confusion_matrix, ConfusionMatrixDisplay, plot_confusion_matrix"
      ],
      "execution_count": null,
      "outputs": []
    },
    {
      "cell_type": "code",
      "metadata": {
        "id": "jSfAkzRRKyEC",
        "colab_type": "code",
        "colab": {}
      },
      "source": [
        "data_dir = Path(\"/content/chest_xray\")\n",
        "test_dir = data_dir / \"test\"\n",
        "test_dir_normal = test_dir / \"NORMAL\"\n",
        "test_dir_pne = test_dir / \"PNEUMONIA\""
      ],
      "execution_count": null,
      "outputs": []
    },
    {
      "cell_type": "code",
      "metadata": {
        "id": "0b-NKpikK_an",
        "colab_type": "code",
        "colab": {}
      },
      "source": [
        "IMAGE_SIZE = 224"
      ],
      "execution_count": null,
      "outputs": []
    },
    {
      "cell_type": "code",
      "metadata": {
        "id": "_aDg5BmAKj38",
        "colab_type": "code",
        "colab": {}
      },
      "source": [
        "X_test, y_test = img_to_array(test_dir_pne, test_dir_normal, image_size=IMAGE_SIZE)"
      ],
      "execution_count": null,
      "outputs": []
    },
    {
      "cell_type": "code",
      "metadata": {
        "id": "-kvpMFyBLFzE",
        "colab_type": "code",
        "colab": {}
      },
      "source": [
        "with open(\"drive/My Drive/models/rf_sqrt_500.pickle\", \"rb\") as f:\n",
        "    clf = pickle.load(f)"
      ],
      "execution_count": null,
      "outputs": []
    },
    {
      "cell_type": "code",
      "metadata": {
        "id": "2mmqXqAILJT0",
        "colab_type": "code",
        "colab": {}
      },
      "source": [
        "y_pred = clf.predict(X_test)\n",
        "print(f\"Accuracy of the model: {sum(y_pred == y_test) / len(y_test)}\")"
      ],
      "execution_count": null,
      "outputs": []
    },
    {
      "cell_type": "code",
      "metadata": {
        "id": "IoBuQT2QpYrH",
        "colab_type": "code",
        "colab": {}
      },
      "source": [
        "cm = confusion_matrix(y_test, y_pred)"
      ],
      "execution_count": null,
      "outputs": []
    },
    {
      "cell_type": "code",
      "metadata": {
        "id": "3AgkryBPpgNW",
        "colab_type": "code",
        "colab": {}
      },
      "source": [
        "fig = plt.figure(figsize=(10, 10))\n",
        "ax = fig.add_subplot(111)\n",
        "plot_confusion_matrix(clf, X_test, y_test,\n",
        "                      cmap=plt.cm.Blues,\n",
        "                      display_labels=[\"NORMAL\", \"PNEUMONIA\"],\n",
        "                      values_format='d',\n",
        "                      ax=ax)"
      ],
      "execution_count": null,
      "outputs": []
    }
  ]
}