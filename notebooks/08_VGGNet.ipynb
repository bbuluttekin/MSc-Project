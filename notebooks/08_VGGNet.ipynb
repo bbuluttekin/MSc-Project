{
  "nbformat": 4,
  "nbformat_minor": 0,
  "metadata": {
    "colab": {
      "name": "08-VGGNet.ipynb",
      "provenance": [],
      "collapsed_sections": []
    },
    "kernelspec": {
      "name": "python3",
      "display_name": "Python 3"
    },
    "accelerator": "GPU"
  },
  "cells": [
    {
      "cell_type": "code",
      "metadata": {
        "id": "Q-voiO4CS8WX"
      },
      "source": [
        "!bash drive/My\\ Drive/datawithcred.sh"
      ],
      "execution_count": null,
      "outputs": []
    },
    {
      "cell_type": "code",
      "metadata": {
        "id": "tYbXFFnVTP5N"
      },
      "source": [
        "from pathlib import Path\n",
        "import tensorflow as tf\n",
        "from src.data.make_dataset import GetDataset\n",
        "from src.core.cloud import CloudTrainer"
      ],
      "execution_count": null,
      "outputs": []
    },
    {
      "cell_type": "code",
      "metadata": {
        "id": "rBBgZwv-Uxbh"
      },
      "source": [
        "tf.random.set_seed(123)"
      ],
      "execution_count": null,
      "outputs": []
    },
    {
      "cell_type": "code",
      "metadata": {
        "id": "zt55QZhSTxiI"
      },
      "source": [
        "dt = GetDataset(image_dims=(224, 224))"
      ],
      "execution_count": null,
      "outputs": []
    },
    {
      "cell_type": "code",
      "metadata": {
        "id": "XXfnx6yeT8DS"
      },
      "source": [
        "train = dt.make_train_data(Path(\"chest_xray/train\"))"
      ],
      "execution_count": null,
      "outputs": []
    },
    {
      "cell_type": "code",
      "metadata": {
        "id": "ToWrRKGNUHr-"
      },
      "source": [
        "val = dt.make_train_data(Path(\"chest_xray/test\"))"
      ],
      "execution_count": null,
      "outputs": []
    },
    {
      "cell_type": "code",
      "metadata": {
        "id": "ux4mc-tYU6bM"
      },
      "source": [
        "trainer = CloudTrainer(experiment_name=\"VGGNet16\", save_freq=30)"
      ],
      "execution_count": null,
      "outputs": []
    },
    {
      "cell_type": "code",
      "metadata": {
        "id": "xLHG6gxYVmX3"
      },
      "source": [
        "%load_ext tensorboard"
      ],
      "execution_count": null,
      "outputs": []
    },
    {
      "cell_type": "code",
      "metadata": {
        "id": "KhiB8x44Vqz9"
      },
      "source": [
        "%tensorboard --logdir=./drive/My\\ Drive/models --port=6006"
      ],
      "execution_count": null,
      "outputs": []
    },
    {
      "cell_type": "code",
      "metadata": {
        "id": "uDyMKhKsA-XW"
      },
      "source": [
        "vgg = tf.keras.applications.VGG16(include_top=False, \n",
        "                                    weights=None, \n",
        "                                    input_shape=(dt.width, dt.height, 3), \n",
        "                                    pooling='max')\n",
        "model = tf.keras.Sequential()\n",
        "for layer in vgg.layers:\n",
        "    layer.trainable = True\n",
        "    model.add(layer)\n",
        "# vgg = tf.keras.Model(vgg.input, vgg.layers[-1].output)\n",
        "model.add(tf.keras.layers.Flatten())\n",
        "model.add(tf.keras.layers.Dense(4096, activation=\"relu\"))\n",
        "model.add(tf.keras.layers.Dropout(0.5))\n",
        "model.add(tf.keras.layers.Dense(4096, activation=\"relu\"))\n",
        "model.add(tf.keras.layers.Dropout(0.5))\n",
        "model.add(tf.keras.layers.Dense(1, activation=\"sigmoid\"))\n",
        "# model = tf.keras.Sequential([\n",
        "#     vgg,\n",
        "#     tf.keras.layers.Flatten(),\n",
        "#     tf.keras.layers.Dense(4096, activation=\"relu\"),\n",
        "#     tf.keras.layers.Dropout(0.5),\n",
        "#     tf.keras.layers.Dense(4096, activation=\"relu\"),\n",
        "#     tf.keras.layers.Dropout(0.5),\n",
        "#     tf.keras.layers.Dense(1, activation=\"sigmoid\")\n",
        "# ])"
      ],
      "execution_count": null,
      "outputs": []
    },
    {
      "cell_type": "code",
      "metadata": {
        "id": "fCnSbiGSBZWV"
      },
      "source": [
        "model.summary()"
      ],
      "execution_count": null,
      "outputs": []
    },
    {
      "cell_type": "code",
      "metadata": {
        "id": "dxqqT2k0UMkd"
      },
      "source": [
        "def get_model():\n",
        "    vgg = tf.keras.applications.VGG16(include_top=False, \n",
        "                                    weights=None, \n",
        "                                    input_shape=(dt.width, dt.height, 3), \n",
        "                                    pooling='max')\n",
        "    for layer in vgg.layers:\n",
        "        layer.trainable = True\n",
        "    vgg = tf.keras.Model(input=vgg.input, output=vgg.output)\n",
        "    model = tf.keras.Sequential([\n",
        "        vgg,\n",
        "        tf.keras.layers.Flatten(),\n",
        "        tf.keras.layers.Dense(4096, activation=\"relu\"),\n",
        "        tf.keras.layers.Dropout(0.5),\n",
        "        tf.keras.layers.Dense(4096, activation=\"relu\"),\n",
        "        tf.keras.layers.Dropout(0.5),\n",
        "        tf.keras.layers.Dense(1, activation=\"sigmoid\")\n",
        "    ])\n",
        "    return model"
      ],
      "execution_count": null,
      "outputs": []
    },
    {
      "cell_type": "code",
      "metadata": {
        "id": "Erbi6fiUCjw3"
      },
      "source": [
        "def get_model():\n",
        "    vgg = tf.keras.applications.VGG16(include_top=False, \n",
        "                                    weights=None, \n",
        "                                    input_shape=(dt.width, dt.height, 3), \n",
        "                                    pooling='avg')\n",
        "    model = tf.keras.Sequential()\n",
        "    for layer in vgg.layers:\n",
        "        layer.trainable = True\n",
        "        model.add(layer)\n",
        "    # vgg = tf.keras.Model(vgg.input, vgg.layers[-1].output)\n",
        "    model.add(tf.keras.layers.Flatten())\n",
        "    model.add(tf.keras.layers.Dense(4096, activation=\"relu\"))\n",
        "    model.add(tf.keras.layers.Dropout(0.5))\n",
        "    model.add(tf.keras.layers.Dense(4096, activation=\"relu\"))\n",
        "    model.add(tf.keras.layers.Dropout(0.5))\n",
        "    model.add(tf.keras.layers.Dense(1, activation=\"sigmoid\"))\n",
        "    return model"
      ],
      "execution_count": null,
      "outputs": []
    },
    {
      "cell_type": "code",
      "metadata": {
        "id": "YYxdvs8D6AVE"
      },
      "source": [
        "def get_model():\n",
        "    vgg = tf.keras.applications.VGG16(include_top=False, \n",
        "                                    weights=None, \n",
        "                                    input_shape=(dt.width, dt.height, 3), \n",
        "                                    pooling='avg')\n",
        "    input_layer = tf.keras.Input(shape=(dt.width, dt.height, 3))\n",
        "    x = vgg(input_layer)\n",
        "    x = tf.keras.layers.Dense(4096, activation=\"relu\")(x)\n",
        "    x = tf.keras.layers.Dropout(0.5)(x)\n",
        "    x = tf.keras.layers.Dense(4096, activation=\"relu\")(x)\n",
        "    x = tf.keras.layers.Dropout(0.5)(x)\n",
        "    output = tf.keras.layers.Dense(1, activation=\"sigmoid\")(x)\n",
        "    model = tf.keras.Model(input_layer, output)\n",
        "    return model"
      ],
      "execution_count": null,
      "outputs": []
    },
    {
      "cell_type": "code",
      "metadata": {
        "id": "G8RCBlXO8SiT"
      },
      "source": [
        "m = get_model()"
      ],
      "execution_count": null,
      "outputs": []
    },
    {
      "cell_type": "code",
      "metadata": {
        "id": "flZCetOxVO48"
      },
      "source": [
        "trainer.add_keras_seq_model(get_model)"
      ],
      "execution_count": null,
      "outputs": []
    },
    {
      "cell_type": "code",
      "metadata": {
        "id": "OX61Dgck2bik"
      },
      "source": [
        "trainer.add_callbacks([\n",
        "        tf.keras.callbacks.ReduceLROnPlateau(verbose=1)\n",
        "])"
      ],
      "execution_count": null,
      "outputs": []
    },
    {
      "cell_type": "code",
      "metadata": {
        "id": "evGLFYkqVcql"
      },
      "source": [
        "trainer.compile(\n",
        "    optimizer=tf.keras.optimizers.Adam(learning_rate=0.01),\n",
        "    loss=\"binary_crossentropy\",\n",
        "    metrics=[\"accuracy\",\n",
        "             tf.keras.metrics.Precision(name='precision'),\n",
        "             tf.keras.metrics.Recall(name='recall')]\n",
        ")"
      ],
      "execution_count": null,
      "outputs": []
    },
    {
      "cell_type": "code",
      "metadata": {
        "id": "kUt6k4-GVggm"
      },
      "source": [
        "trainer.fit(\n",
        "    train,\n",
        "    validation_data=val,\n",
        "    epochs=30\n",
        ")"
      ],
      "execution_count": null,
      "outputs": []
    },
    {
      "cell_type": "code",
      "metadata": {
        "id": "0fSeuAnTcbqi"
      },
      "source": [
        "trainer.model.summary()"
      ],
      "execution_count": null,
      "outputs": []
    },
    {
      "cell_type": "code",
      "metadata": {
        "id": "IcFRB5AEK2ev"
      },
      "source": [
        "train = dt.make_balaced_dataset(majority_class=\"chest_xray/train/PNEUMONIA\",\n",
        "                                minority_class=\"chest_xray/train/NORMAL\",\n",
        "                                transformations=[\n",
        "                                    dt.image_flip_left_right,\n",
        "                                    dt.image_central_crop,\n",
        "                                    dt.image_adjust_saturation\n",
        "                                ])"
      ],
      "execution_count": null,
      "outputs": []
    },
    {
      "cell_type": "code",
      "metadata": {
        "id": "Jvi5S2wXL5Lf"
      },
      "source": [
        "aug_trainer = CloudTrainer(experiment_name=\"vgg-balanced\", save_freq=30)"
      ],
      "execution_count": null,
      "outputs": []
    },
    {
      "cell_type": "code",
      "metadata": {
        "id": "uBHK21X5MG0J"
      },
      "source": [
        "aug_trainer.add_keras_seq_model(get_model)"
      ],
      "execution_count": null,
      "outputs": []
    },
    {
      "cell_type": "code",
      "metadata": {
        "id": "nf518IdE3XDs"
      },
      "source": [
        "aug_trainer.add_callbacks([\n",
        "        tf.keras.callbacks.ReduceLROnPlateau(verbose=1)\n",
        "])"
      ],
      "execution_count": null,
      "outputs": []
    },
    {
      "cell_type": "code",
      "metadata": {
        "id": "MZaAglEoMKLR"
      },
      "source": [
        "aug_trainer.compile(\n",
        "    optimizer=tf.keras.optimizers.Adam(learning_rate=0.001),\n",
        "    loss=\"binary_crossentropy\",\n",
        "    metrics=[\"accuracy\",\n",
        "             tf.keras.metrics.Precision(name='precision'),\n",
        "             tf.keras.metrics.Recall(name='recall')]\n",
        ")"
      ],
      "execution_count": null,
      "outputs": []
    },
    {
      "cell_type": "code",
      "metadata": {
        "id": "IZv9l7BLMPyJ"
      },
      "source": [
        "aug_trainer.fit(\n",
        "    train,\n",
        "    validation_data=val,\n",
        "    epochs=30\n",
        ")"
      ],
      "execution_count": null,
      "outputs": []
    },
    {
      "cell_type": "code",
      "metadata": {
        "id": "fb8bhbIeMVVA"
      },
      "source": [
        "aug_trainer.model.save(\"drive/My Drive/models/vgg-balanced/final_model.h5\")"
      ],
      "execution_count": null,
      "outputs": []
    },
    {
      "cell_type": "code",
      "metadata": {
        "id": "PRDftuU5HxMQ"
      },
      "source": [
        ""
      ],
      "execution_count": null,
      "outputs": []
    }
  ]
}