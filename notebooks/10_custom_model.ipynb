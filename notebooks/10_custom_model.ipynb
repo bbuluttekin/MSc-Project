{
  "nbformat": 4,
  "nbformat_minor": 0,
  "metadata": {
    "colab": {
      "name": "10-custom-model.ipynb",
      "provenance": [],
      "collapsed_sections": []
    },
    "kernelspec": {
      "name": "python3",
      "display_name": "Python 3"
    },
    "accelerator": "GPU"
  },
  "cells": [
    {
      "cell_type": "code",
      "metadata": {
        "id": "I0n6VJGAndL0"
      },
      "source": [
        "!bash drive/My\\ Drive/datawithcred.sh"
      ],
      "execution_count": null,
      "outputs": []
    },
    {
      "cell_type": "code",
      "metadata": {
        "id": "XFECybo7nzhu"
      },
      "source": [
        "import random\n",
        "import tensorflow as tf\n",
        "from pathlib import Path\n",
        "from src.data.make_dataset import GetDataset\n",
        "from src.core.cloud import CloudTrainer"
      ],
      "execution_count": null,
      "outputs": []
    },
    {
      "cell_type": "code",
      "metadata": {
        "id": "qLe8kFHxokGA"
      },
      "source": [
        "tf.random.set_seed(123)"
      ],
      "execution_count": null,
      "outputs": []
    },
    {
      "cell_type": "code",
      "metadata": {
        "id": "zpVgEQvRo0z9"
      },
      "source": [
        "dt = GetDataset(image_dims=(224, 224))"
      ],
      "execution_count": null,
      "outputs": []
    },
    {
      "cell_type": "code",
      "metadata": {
        "id": "p2jSRALGo28M"
      },
      "source": [
        "train = dt.make_balaced_dataset(majority_class=\"chest_xray/train/PNEUMONIA\",\n",
        "                                minority_class=\"chest_xray/train/NORMAL\",\n",
        "                                transformations=[\n",
        "                                    dt.image_flip_left_right,\n",
        "                                    dt.image_central_crop,\n",
        "                                    dt.image_adjust_saturation\n",
        "                                ])"
      ],
      "execution_count": null,
      "outputs": []
    },
    {
      "cell_type": "code",
      "metadata": {
        "id": "325VcRiOo8mp"
      },
      "source": [
        "val = dt.make_train_data(Path(\"chest_xray/test\"))"
      ],
      "execution_count": null,
      "outputs": []
    },
    {
      "cell_type": "code",
      "metadata": {
        "id": "I2mx9_wopAe8"
      },
      "source": [
        "%load_ext tensorboard"
      ],
      "execution_count": null,
      "outputs": []
    },
    {
      "cell_type": "code",
      "metadata": {
        "id": "KS8RJq_rpE7W"
      },
      "source": [
        "%tensorboard --logdir=./drive/My\\ Drive/models --port=6006"
      ],
      "execution_count": null,
      "outputs": []
    },
    {
      "cell_type": "code",
      "metadata": {
        "id": "zkHhCI11pGwo"
      },
      "source": [
        "def conv_block(filters, kernel_size):\n",
        "    c_block = tf.keras.Sequential([\n",
        "        tf.keras.layers.SeparableConv2D(filters=filters,\n",
        "                                        kernel_size=kernel_size,\n",
        "                                        activation=\"relu\",\n",
        "                                        padding=\"same\"),\n",
        "        tf.keras.layers.SeparableConv2D(filters=filters,\n",
        "                                        kernel_size=kernel_size,\n",
        "                                        activation=\"relu\",\n",
        "                                        padding=\"same\"),\n",
        "        tf.keras.layers.BatchNormalization(),\n",
        "        tf.keras.layers.MaxPool2D()\n",
        "    ])\n",
        "    return c_block"
      ],
      "execution_count": null,
      "outputs": []
    },
    {
      "cell_type": "code",
      "metadata": {
        "id": "r2Y4HGYNrEuS"
      },
      "source": [
        "def model_top():\n",
        "    m = tf.keras.Sequential([\n",
        "        tf.keras.layers.Dense(256, activation=\"relu\"),\n",
        "        tf.keras.layers.Dense(128, activation=\"relu\"),\n",
        "        tf.keras.layers.Dense(1, activation=\"sigmoid\")\n",
        "    ])"
      ],
      "execution_count": null,
      "outputs": []
    },
    {
      "cell_type": "code",
      "metadata": {
        "id": "f0aDOyQHruR4"
      },
      "source": [
        "def model_top_with_dropout(rate):\n",
        "    m = tf.keras.Sequential([\n",
        "        tf.keras.layers.Dense(256, activation=\"relu\"),\n",
        "        tf.keras.layers.Dropout(rate),\n",
        "        tf.keras.layers.Dense(128, activation=\"relu\"),\n",
        "        tf.keras.layers.Dropout(rate)\n",
        "    ])\n",
        "    return m"
      ],
      "execution_count": null,
      "outputs": []
    },
    {
      "cell_type": "markdown",
      "metadata": {
        "id": "NrAhKxX4sNbN"
      },
      "source": [
        "# Tuning number of layers"
      ]
    },
    {
      "cell_type": "code",
      "metadata": {
        "id": "Dceh-xUD1BpQ"
      },
      "source": [
        "def get_model():\n",
        "        model = tf.keras.Sequential()\n",
        "        model.add(tf.keras.Input(shape=(dt.width, dt.height, 3)))\n",
        "        for i in range(1, l+1):\n",
        "            FILTER_SIZE = 64 * i\n",
        "            model.add(tf.keras.layers.Conv2D(filters=FILTER_SIZE,\n",
        "                                        kernel_size=(3,3),\n",
        "                                        activation=\"relu\",\n",
        "                                        padding=\"same\"))\n",
        "            model.add(tf.keras.layers.Conv2D(filters=FILTER_SIZE,\n",
        "                                        kernel_size=(3,3),\n",
        "                                        activation=\"relu\",\n",
        "                                        padding=\"same\"))\n",
        "            model.add(tf.keras.layers.BatchNormalization())\n",
        "            model.add(tf.keras.layers.MaxPool2D())\n",
        "        model.add(tf.keras.layers.Flatten())\n",
        "        model.add(tf.keras.layers.Dense(256, activation=\"relu\"))\n",
        "        model.add(tf.keras.layers.Dropout(RATE))\n",
        "        model.add(tf.keras.layers.Dense(128, activation=\"relu\"))\n",
        "        model.add(tf.keras.layers.Dropout(RATE))\n",
        "        model.add(tf.keras.layers.Dense(1, activation=\"sigmoid\"))\n",
        "        return model"
      ],
      "execution_count": null,
      "outputs": []
    },
    {
      "cell_type": "code",
      "metadata": {
        "id": "CE8iZVfDyKTn"
      },
      "source": [
        "model.summary()"
      ],
      "execution_count": null,
      "outputs": []
    },
    {
      "cell_type": "code",
      "metadata": {
        "id": "xaVoY_WVszEV"
      },
      "source": [
        "for l in random.sample(list(range(1, 7)), 3):\n",
        "    print(f\"Number of conv layer of model: {l}\")\n",
        "    trainer = CloudTrainer(experiment_name=f\"custom-layer-{l}\", save_freq=100)\n",
        "    RATE = 0.3\n",
        "    trainer.add_keras_seq_model(get_model)\n",
        "    trainer.compile(\n",
        "        optimizer=tf.keras.optimizers.Adam(learning_rate=0.01),\n",
        "        loss=\"binary_crossentropy\",\n",
        "        metrics=[\"accuracy\",\n",
        "                    tf.keras.metrics.Precision(name='precision'),\n",
        "                    tf.keras.metrics.Recall(name='recall')]\n",
        "        )\n",
        "    trainer.fit(\n",
        "        train,\n",
        "        validation_data=val,\n",
        "        epochs=30\n",
        "    )\n",
        "    \n",
        "\n",
        "\n",
        "\n"
      ],
      "execution_count": null,
      "outputs": []
    },
    {
      "cell_type": "code",
      "metadata": {
        "id": "u31eKeEdwzxB"
      },
      "source": [
        "def get_model():\n",
        "        model = tf.keras.Sequential()\n",
        "        # model.add(tf.keras.Input(shape=(224, 224, 3)))\n",
        "        for i in range(1, l+1):\n",
        "            FILTER_SIZE = 64 * i\n",
        "            model.add(tf.keras.layers.SeparableConv2D(filters=FILTER_SIZE,\n",
        "                                        kernel_size=(3,3),\n",
        "                                        activation=\"relu\",\n",
        "                                        padding=\"same\"))\n",
        "            model.add(tf.keras.layers.SeparableConv2D(filters=FILTER_SIZE,\n",
        "                                        kernel_size=(3,3),\n",
        "                                        activation=\"relu\",\n",
        "                                        padding=\"same\"))\n",
        "            model.add(tf.keras.layers.BatchNormalization())\n",
        "            model.add(tf.keras.layers.MaxPool2D())\n",
        "        model.add(tf.keras.layers.Flatten())\n",
        "        model.add(tf.keras.layers.Dense(256, activation=\"relu\"))\n",
        "        model.add(tf.keras.layers.Dropout(RATE))\n",
        "        model.add(tf.keras.layers.Dense(128, activation=\"relu\"))\n",
        "        model.add(tf.keras.layers.Dropout(RATE))\n",
        "        model.add(tf.keras.layers.Dense(1, activation=\"sigmoid\"))\n",
        "        return model"
      ],
      "execution_count": null,
      "outputs": []
    },
    {
      "cell_type": "code",
      "metadata": {
        "id": "DhMS8gfnHLBM"
      },
      "source": [
        "for l in random.sample(list(range(1, 7)), 3):\n",
        "l = 5\n",
        "print(f\"Number of conv layer of model: {l}\")\n",
        "trainer = CloudTrainer(experiment_name=f\"custom-sep-layer-{l}\", save_freq=100)\n",
        "RATE = 0.3\n",
        "trainer.add_keras_seq_model(get_model)\n",
        "trainer.compile(\n",
        "    optimizer=tf.keras.optimizers.Adam(learning_rate=0.01),\n",
        "    loss=\"binary_crossentropy\",\n",
        "    metrics=[\"accuracy\",\n",
        "                tf.keras.metrics.Precision(name='precision'),\n",
        "                tf.keras.metrics.Recall(name='recall')]\n",
        "    )\n",
        "trainer.fit(\n",
        "    train,\n",
        "    validation_data=val,\n",
        "    epochs=30\n",
        ")\n",
        "    "
      ],
      "execution_count": null,
      "outputs": []
    },
    {
      "cell_type": "code",
      "metadata": {
        "id": "j2Is7i6bHQ1a"
      },
      "source": [
        "for i in [0.1, 0.2, 0.3]:\n",
        "    l=5\n",
        "    name = str(i).split(\".\")[1] + \"0\"\n",
        "    trainer = CloudTrainer(experiment_name=f\"custom-dropout-{name}\", save_freq=100)\n",
        "    if i:\n",
        "        print(f\"Dropout rate: {name}\")\n",
        "        RATE = i\n",
        "        trainer.add_keras_seq_model(get_model)\n",
        "        trainer.compile(\n",
        "            optimizer=tf.keras.optimizers.Adam(learning_rate=0.01),\n",
        "            loss=\"binary_crossentropy\",\n",
        "            metrics=[\"accuracy\",\n",
        "                        tf.keras.metrics.Precision(name='precision'),\n",
        "                        tf.keras.metrics.Recall(name='recall')]\n",
        "            )\n",
        "        trainer.fit(\n",
        "            train,\n",
        "            validation_data=val,\n",
        "            epochs=30\n",
        "        )\n",
        "    else:\n",
        "        print(f\"Dropout rate: {i}\")\n",
        "        def get_model():\n",
        "            model = tf.keras.Sequential()\n",
        "            model.add(tf.keras.Input(shape=(dt.width, dt.height, 3)))\n",
        "            for i in range(1, l+1):\n",
        "                FILTER_SIZE = 64 * i\n",
        "                model.add(tf.keras.layers.Conv2D(filters=FILTER_SIZE,\n",
        "                                            kernel_size=(3,3),\n",
        "                                            activation=\"relu\",\n",
        "                                            padding=\"same\"))\n",
        "                model.add(tf.keras.layers.Conv2D(filters=FILTER_SIZE,\n",
        "                                            kernel_size=(3,3),\n",
        "                                            activation=\"relu\",\n",
        "                                            padding=\"same\"))\n",
        "                model.add(tf.keras.layers.BatchNormalization())\n",
        "                model.add(tf.keras.layers.MaxPool2D())\n",
        "            model.add(tf.keras.layers.Flatten())\n",
        "            model.add(tf.keras.layers.Dense(256, activation=\"relu\"))\n",
        "            model.add(tf.keras.layers.Dense(128, activation=\"relu\"))\n",
        "            model.add(tf.keras.layers.Dense(1, activation=\"sigmoid\"))\n",
        "            return model\n",
        "        trainer = CloudTrainer(experiment_name=f\"custom-dropout-{i}\", save_freq=100)\n",
        "        trainer.add_keras_seq_model(get_model)\n",
        "        trainer.compile(\n",
        "            optimizer=tf.keras.optimizers.Adam(learning_rate=0.01),\n",
        "            loss=\"binary_crossentropy\",\n",
        "            metrics=[\"accuracy\",\n",
        "                        tf.keras.metrics.Precision(name='precision'),\n",
        "                        tf.keras.metrics.Recall(name='recall')]\n",
        "            )\n",
        "        trainer.fit(\n",
        "            train,\n",
        "            validation_data=val,\n",
        "            epochs=30\n",
        "        )"
      ],
      "execution_count": null,
      "outputs": []
    },
    {
      "cell_type": "code",
      "metadata": {
        "id": "Udayt2cS1pW0"
      },
      "source": [
        ""
      ],
      "execution_count": null,
      "outputs": []
    }
  ]
}