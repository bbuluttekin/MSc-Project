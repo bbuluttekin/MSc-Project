{
  "nbformat": 4,
  "nbformat_minor": 0,
  "metadata": {
    "colab": {
      "name": "05-baseline-model-svm-eval.ipynb",
      "provenance": [],
      "collapsed_sections": []
    },
    "kernelspec": {
      "name": "python3",
      "display_name": "Python 3"
    }
  },
  "cells": [
    {
      "cell_type": "markdown",
      "metadata": {
        "id": "bYN0sB_Ov9A7",
        "colab_type": "text"
      },
      "source": [
        "# Model Evaluation for Support Vector Classifier"
      ]
    },
    {
      "cell_type": "code",
      "metadata": {
        "id": "ITptHhcXJtNZ",
        "colab_type": "code",
        "colab": {}
      },
      "source": [
        "!bash drive/My\\ Drive/datawithcred.sh\n",
        "!bash drive/My\\ Drive/awssetup.sh"
      ],
      "execution_count": null,
      "outputs": []
    },
    {
      "cell_type": "code",
      "metadata": {
        "id": "okvEUGX7KBkd",
        "colab_type": "code",
        "colab": {}
      },
      "source": [
        "import pickle\n",
        "from pathlib import Path\n",
        "from src.data.make_array import img_to_array\n",
        "from src.utils import download_from_s3\n",
        "import matplotlib.pyplot as plt\n",
        "from sklearn.metrics import accuracy_score, confusion_matrix, ConfusionMatrixDisplay,  plot_confusion_matrix"
      ],
      "execution_count": null,
      "outputs": []
    },
    {
      "cell_type": "code",
      "metadata": {
        "id": "jSfAkzRRKyEC",
        "colab_type": "code",
        "colab": {}
      },
      "source": [
        "data_dir = Path(\"/content/chest_xray\")\n",
        "test_dir = data_dir / \"test\"\n",
        "test_dir_normal = test_dir / \"NORMAL\"\n",
        "test_dir_pne = test_dir / \"PNEUMONIA\""
      ],
      "execution_count": null,
      "outputs": []
    },
    {
      "cell_type": "code",
      "metadata": {
        "id": "0b-NKpikK_an",
        "colab_type": "code",
        "colab": {}
      },
      "source": [
        "IMAGE_SIZE = 224"
      ],
      "execution_count": null,
      "outputs": []
    },
    {
      "cell_type": "code",
      "metadata": {
        "id": "_aDg5BmAKj38",
        "colab_type": "code",
        "colab": {}
      },
      "source": [
        "X_test, y_test = img_to_array(test_dir_pne, test_dir_normal, image_size=IMAGE_SIZE)"
      ],
      "execution_count": null,
      "outputs": []
    },
    {
      "cell_type": "code",
      "metadata": {
        "id": "QhMNvIk1MPFH",
        "colab_type": "code",
        "colab": {}
      },
      "source": [
        "download_from_s3(\"msc-project-pickle\", \"svm_10_rbf.pickle\")"
      ],
      "execution_count": null,
      "outputs": []
    },
    {
      "cell_type": "code",
      "metadata": {
        "id": "-kvpMFyBLFzE",
        "colab_type": "code",
        "colab": {}
      },
      "source": [
        "with open(\"svm_10_rbf.pickle\", \"rb\") as f:\n",
        "    clf = pickle.load(f)"
      ],
      "execution_count": null,
      "outputs": []
    },
    {
      "cell_type": "code",
      "metadata": {
        "id": "2mmqXqAILJT0",
        "colab_type": "code",
        "colab": {}
      },
      "source": [
        "y_pred = clf.predict(X_test)\n",
        "print(f\"Accuracy of the model: {sum(y_pred == y_test) / len(y_test)}\")"
      ],
      "execution_count": null,
      "outputs": []
    },
    {
      "cell_type": "code",
      "metadata": {
        "id": "LghIhBG4NrfS",
        "colab_type": "code",
        "colab": {}
      },
      "source": [
        "cm = confusion_matrix(y_test, y_pred)"
      ],
      "execution_count": null,
      "outputs": []
    },
    {
      "cell_type": "code",
      "metadata": {
        "id": "_mHuKgAywPiV",
        "colab_type": "code",
        "colab": {}
      },
      "source": [
        "fig = plt.figure(figsize=(10, 10))\n",
        "ax = fig.add_subplot(111)\n",
        "plot_confusion_matrix(clf, X_test, y_test,\n",
        "                      cmap=plt.cm.Blues,\n",
        "                      display_labels=[\"NORMAL\", \"PNEUMONIA\"],\n",
        "                      values_format='d',\n",
        "                      ax=ax)"
      ],
      "execution_count": null,
      "outputs": []
    }
  ]
}