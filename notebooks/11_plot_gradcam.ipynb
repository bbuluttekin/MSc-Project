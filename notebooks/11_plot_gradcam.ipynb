{
  "nbformat": 4,
  "nbformat_minor": 0,
  "metadata": {
    "colab": {
      "name": "11 plot-gradcam.ipynb",
      "provenance": [],
      "collapsed_sections": []
    },
    "kernelspec": {
      "name": "python3",
      "display_name": "Python 3"
    }
  },
  "cells": [
    {
      "cell_type": "markdown",
      "metadata": {
        "id": "vMT7IuXKin1u"
      },
      "source": [
        "# Plotting the GradCAM Visuals"
      ]
    },
    {
      "cell_type": "code",
      "metadata": {
        "id": "LfcuTTDVCp79"
      },
      "source": [
        "!bash drive/My\\ Drive/datawithcred.sh"
      ],
      "execution_count": null,
      "outputs": []
    },
    {
      "cell_type": "code",
      "metadata": {
        "id": "z3hBHvFHC7gG"
      },
      "source": [
        "import tensorflow as tf\n",
        "import numpy as np\n",
        "from pathlib import Path\n",
        "from src.data.make_heatmap import GradCAM\n",
        "\n",
        "import matplotlib.pyplot as plt\n",
        "import matplotlib.cm as cm"
      ],
      "execution_count": null,
      "outputs": []
    },
    {
      "cell_type": "code",
      "metadata": {
        "id": "OE2ZN2o2D0Wb"
      },
      "source": [
        "paths = Path(\"chest_xray/test/\")"
      ],
      "execution_count": null,
      "outputs": []
    },
    {
      "cell_type": "code",
      "metadata": {
        "id": "R5o1NkgrEQYS"
      },
      "source": [
        "paths = [str(f) for f in paths.glob(\"*/*\")]"
      ],
      "execution_count": null,
      "outputs": []
    },
    {
      "cell_type": "code",
      "metadata": {
        "id": "fEZ1ewdAESaI"
      },
      "source": [
        "model = tf.keras.models.load_model(\"drive/My Drive/models/custom-layer-5/final_model.h5\")"
      ],
      "execution_count": null,
      "outputs": []
    },
    {
      "cell_type": "code",
      "metadata": {
        "id": "SNB5oi78FRL7"
      },
      "source": [
        "model.summary()"
      ],
      "execution_count": null,
      "outputs": []
    },
    {
      "cell_type": "markdown",
      "metadata": {
        "id": "u5Lxx3kLicme"
      },
      "source": [
        "Paths used: -6, -22, -38, -42, -47"
      ]
    },
    {
      "cell_type": "code",
      "metadata": {
        "id": "PogcZsnu5zbS"
      },
      "source": [
        "gm = GradCAM(paths[-47], (224, 224), model, last_convolution_layer=\"conv2d_73\")"
      ],
      "execution_count": null,
      "outputs": []
    },
    {
      "cell_type": "code",
      "metadata": {
        "id": "i2Mj3bLJ6ExE"
      },
      "source": [
        "plt.imshow(gm.heatmap)"
      ],
      "execution_count": null,
      "outputs": []
    },
    {
      "cell_type": "code",
      "metadata": {
        "id": "0xWIY3yP6N45"
      },
      "source": [
        "gm.plot_gradcam()"
      ],
      "execution_count": null,
      "outputs": []
    }
  ]
}