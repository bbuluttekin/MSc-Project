{
  "nbformat": 4,
  "nbformat_minor": 0,
  "metadata": {
    "colab": {
      "name": "06-LeNet-5.ipynb",
      "provenance": [],
      "collapsed_sections": []
    },
    "kernelspec": {
      "name": "python3",
      "display_name": "Python 3"
    },
    "accelerator": "GPU"
  },
  "cells": [
    {
      "cell_type": "code",
      "metadata": {
        "id": "Q-voiO4CS8WX",
        "colab_type": "code",
        "colab": {}
      },
      "source": [
        "!bash drive/My\\ Drive/datawithcred.sh"
      ],
      "execution_count": null,
      "outputs": []
    },
    {
      "cell_type": "code",
      "metadata": {
        "id": "tYbXFFnVTP5N",
        "colab_type": "code",
        "colab": {}
      },
      "source": [
        "from pathlib import Path\n",
        "import tensorflow as tf\n",
        "from src.data.make_dataset import GetDataset\n",
        "from src.core.cloud import CloudTrainer"
      ],
      "execution_count": null,
      "outputs": []
    },
    {
      "cell_type": "code",
      "metadata": {
        "id": "rBBgZwv-Uxbh",
        "colab_type": "code",
        "colab": {}
      },
      "source": [
        "tf.random.set_seed(111)"
      ],
      "execution_count": null,
      "outputs": []
    },
    {
      "cell_type": "code",
      "metadata": {
        "id": "zt55QZhSTxiI",
        "colab_type": "code",
        "colab": {}
      },
      "source": [
        "dt = GetDataset(image_dims=(224, 224))"
      ],
      "execution_count": null,
      "outputs": []
    },
    {
      "cell_type": "code",
      "metadata": {
        "id": "XXfnx6yeT8DS",
        "colab_type": "code",
        "colab": {}
      },
      "source": [
        "train = dt.make_train_data(Path(\"chest_xray/train\"))"
      ],
      "execution_count": null,
      "outputs": []
    },
    {
      "cell_type": "code",
      "metadata": {
        "id": "ToWrRKGNUHr-",
        "colab_type": "code",
        "colab": {}
      },
      "source": [
        "val = dt.make_train_data(Path(\"chest_xray/test\"))"
      ],
      "execution_count": null,
      "outputs": []
    },
    {
      "cell_type": "code",
      "metadata": {
        "id": "ux4mc-tYU6bM",
        "colab_type": "code",
        "colab": {}
      },
      "source": [
        "trainer = CloudTrainer(experiment_name=\"LeNet5\", save_freq=50)"
      ],
      "execution_count": null,
      "outputs": []
    },
    {
      "cell_type": "code",
      "metadata": {
        "id": "xLHG6gxYVmX3",
        "colab_type": "code",
        "colab": {}
      },
      "source": [
        "%load_ext tensorboard"
      ],
      "execution_count": null,
      "outputs": []
    },
    {
      "cell_type": "code",
      "metadata": {
        "id": "KhiB8x44Vqz9",
        "colab_type": "code",
        "colab": {}
      },
      "source": [
        "%tensorboard --logdir=./drive/My\\ Drive/models --port=6006"
      ],
      "execution_count": null,
      "outputs": []
    },
    {
      "cell_type": "code",
      "metadata": {
        "id": "dxqqT2k0UMkd",
        "colab_type": "code",
        "colab": {}
      },
      "source": [
        "def get_model():\n",
        "    model = tf.keras.Sequential([\n",
        "        tf.keras.layers.Input(shape=(dt.width, dt.height, 3)),\n",
        "        tf.keras.layers.Conv2D(filters=6, kernel_size=(5,5), activation=\"relu\"),\n",
        "        tf.keras.layers.AveragePooling2D(pool_size=(2, 2), strides=(2, 2)),\n",
        "        tf.keras.layers.Conv2D(filters=16, kernel_size=(5, 5), activation=\"relu\"),\n",
        "        tf.keras.layers.AveragePooling2D(pool_size=(2, 2), strides=(2, 2)),\n",
        "        tf.keras.layers.Conv2D(filters=120, kernel_size=(5,5), activation=\"relu\"),\n",
        "        tf.keras.layers.Flatten(),\n",
        "        tf.keras.layers.Dense(120, activation=\"relu\"),\n",
        "        tf.keras.layers.Dense(84, activation=\"relu\"),\n",
        "        tf.keras.layers.Dense(1, activation=\"sigmoid\")\n",
        "    ])\n",
        "    return model"
      ],
      "execution_count": null,
      "outputs": []
    },
    {
      "cell_type": "code",
      "metadata": {
        "id": "5xtba8zF7emi",
        "colab_type": "code",
        "colab": {}
      },
      "source": [
        "def get_model():\n",
        "    model = tf.keras.Sequential([\n",
        "        tf.keras.layers.Input(shape=(dt.width, dt.height, 3)),\n",
        "        tf.keras.layers.Conv2D(filters=6, kernel_size=(5,5), activation=\"tanh\"),\n",
        "        tf.keras.layers.AveragePooling2D(pool_size=(2, 2), strides=(2, 2)),\n",
        "        tf.keras.layers.Conv2D(filters=16, kernel_size=(5, 5), activation=\"tanh\"),\n",
        "        tf.keras.layers.AveragePooling2D(pool_size=(2, 2), strides=(2, 2)),\n",
        "        tf.keras.layers.Conv2D(filters=120, kernel_size=(5,5), activation=\"tanh\"),\n",
        "        tf.keras.layers.Flatten(),\n",
        "        tf.keras.layers.Dense(120, activation=\"tanh\"),\n",
        "        tf.keras.layers.Dense(84, activation=\"tanh\"),\n",
        "        tf.keras.layers.Dense(1, activation=\"sigmoid\")\n",
        "    ])\n",
        "    return model"
      ],
      "execution_count": null,
      "outputs": []
    },
    {
      "cell_type": "code",
      "metadata": {
        "id": "flZCetOxVO48",
        "colab_type": "code",
        "colab": {}
      },
      "source": [
        "trainer.add_keras_seq_model(get_model)"
      ],
      "execution_count": null,
      "outputs": []
    },
    {
      "cell_type": "code",
      "metadata": {
        "id": "SquTNjWjpWln",
        "colab_type": "code",
        "colab": {}
      },
      "source": [
        "trainer.add_callbacks([tf.keras.callbacks.ReduceLROnPlateau(\n",
        "    monitor='val_loss', factor=0.1, patience=10)])"
      ],
      "execution_count": null,
      "outputs": []
    },
    {
      "cell_type": "code",
      "metadata": {
        "id": "evGLFYkqVcql",
        "colab_type": "code",
        "colab": {}
      },
      "source": [
        "trainer.compile(\n",
        "    optimizer=tf.keras.optimizers.Adam(learning_rate=0.001),\n",
        "    loss=\"binary_crossentropy\",\n",
        "    metrics=[\"accuracy\",\n",
        "             tf.keras.metrics.Precision(name='precision'),\n",
        "             tf.keras.metrics.Recall(name='recall')\n",
        "             ]\n",
        ")"
      ],
      "execution_count": null,
      "outputs": []
    },
    {
      "cell_type": "code",
      "metadata": {
        "id": "kUt6k4-GVggm",
        "colab_type": "code",
        "colab": {}
      },
      "source": [
        "trainer.fit(\n",
        "    train,\n",
        "    validation_data=val,\n",
        "    epochs=70\n",
        ")"
      ],
      "execution_count": null,
      "outputs": []
    },
    {
      "cell_type": "code",
      "metadata": {
        "id": "muT8mq8frtTC",
        "colab_type": "code",
        "colab": {}
      },
      "source": [
        "trainer.model.save(\"final_model.h5\")"
      ],
      "execution_count": null,
      "outputs": []
    },
    {
      "cell_type": "code",
      "metadata": {
        "id": "TQaGlBnFtE56",
        "colab_type": "code",
        "colab": {}
      },
      "source": [
        "!mv final_model.h5 drive/"
      ],
      "execution_count": null,
      "outputs": []
    },
    {
      "cell_type": "code",
      "metadata": {
        "id": "0fSeuAnTcbqi",
        "colab_type": "code",
        "colab": {}
      },
      "source": [
        "trainer.model.summary()"
      ],
      "execution_count": null,
      "outputs": []
    },
    {
      "cell_type": "code",
      "metadata": {
        "id": "qQQzpeDj0mGG",
        "colab_type": "code",
        "colab": {}
      },
      "source": [
        "aug_trainer = CloudTrainer(experiment_name=\"LeNet5-balanced\", save_freq=50)"
      ],
      "execution_count": null,
      "outputs": []
    },
    {
      "cell_type": "code",
      "metadata": {
        "id": "YL-EuTDH0qmA",
        "colab_type": "code",
        "colab": {}
      },
      "source": [
        "train = dt.make_balaced_dataset(majority_class=\"chest_xray/train/PNEUMONIA\",\n",
        "                                minority_class=\"chest_xray/train/NORMAL\",\n",
        "                                transformations=[\n",
        "                                    dt.image_flip_left_right,\n",
        "                                    dt.image_central_crop,\n",
        "                                    dt.image_adjust_saturation\n",
        "                                ])"
      ],
      "execution_count": null,
      "outputs": []
    },
    {
      "cell_type": "code",
      "metadata": {
        "id": "4bvKlank02EY",
        "colab_type": "code",
        "colab": {}
      },
      "source": [
        "aug_trainer.add_keras_seq_model(get_model)"
      ],
      "execution_count": null,
      "outputs": []
    },
    {
      "cell_type": "code",
      "metadata": {
        "id": "JHh_iBK2prgb",
        "colab_type": "code",
        "colab": {}
      },
      "source": [
        "trainer.add_callbacks([tf.keras.callbacks.ReduceLROnPlateau(\n",
        "    monitor='val_loss', factor=0.1, patience=10, verbose=1)])"
      ],
      "execution_count": null,
      "outputs": []
    },
    {
      "cell_type": "code",
      "metadata": {
        "id": "2LbwVxsv04b3",
        "colab_type": "code",
        "colab": {}
      },
      "source": [
        "aug_trainer.compile(\n",
        "    optimizer=tf.keras.optimizers.Adam(learning_rate=0.001),\n",
        "    loss=\"binary_crossentropy\",\n",
        "    metrics=[\"accuracy\",\n",
        "             tf.keras.metrics.Precision(name='precision'),\n",
        "             tf.keras.metrics.Recall(name='recall')]\n",
        ")"
      ],
      "execution_count": null,
      "outputs": []
    },
    {
      "cell_type": "code",
      "metadata": {
        "id": "yHOoxY8q07Jq",
        "colab_type": "code",
        "colab": {}
      },
      "source": [
        "aug_trainer.fit(\n",
        "    train,\n",
        "    validation_data=val,\n",
        "    epochs=70\n",
        ")"
      ],
      "execution_count": null,
      "outputs": []
    },
    {
      "cell_type": "code",
      "metadata": {
        "id": "fCTcC5-B09ZE",
        "colab_type": "code",
        "colab": {}
      },
      "source": [
        ""
      ],
      "execution_count": null,
      "outputs": []
    }
  ]
}