{
 "cells": [
  {
   "cell_type": "code",
   "execution_count": 1,
   "metadata": {},
   "outputs": [
    {
     "name": "stdout",
     "output_type": "stream",
     "text": [
      "2019-08-05 22:10:00 aws-deepracer-25b1a0a1-1b22-4c0a-a96d-473263ffa6b6\n",
      "2020-05-09 13:53:16 msc-project-pickle\n",
      "2020-05-10 11:25:45 sagemaker-studio-937669247751-yos4c5c3k0q\n"
     ]
    }
   ],
   "source": [
    "!aws s3 ls"
   ]
  },
  {
   "cell_type": "code",
   "execution_count": 2,
   "metadata": {},
   "outputs": [
    {
     "name": "stdout",
     "output_type": "stream",
     "text": [
      "download: s3://msc-project-pickle/X.pickle to ./X.pickle           \n"
     ]
    }
   ],
   "source": [
    "!aws s3 cp s3://msc-project-pickle/X.pickle X.pickle"
   ]
  },
  {
   "cell_type": "code",
   "execution_count": 3,
   "metadata": {},
   "outputs": [
    {
     "name": "stdout",
     "output_type": "stream",
     "text": [
      "download: s3://msc-project-pickle/y.pickle to ./y.pickle         \n"
     ]
    }
   ],
   "source": [
    "!aws s3 cp s3://msc-project-pickle/y.pickle y.pickle"
   ]
  },
  {
   "cell_type": "code",
   "execution_count": 1,
   "metadata": {},
   "outputs": [],
   "source": [
    "import pickle\n",
    "import numpy as np\n",
    "from sklearn import svm\n",
    "from sklearn.model_selection import GridSearchCV\n",
    "from sklearn.utils import parallel_backend"
   ]
  },
  {
   "cell_type": "code",
   "execution_count": 2,
   "metadata": {},
   "outputs": [],
   "source": [
    "with open(\"X.pickle\", \"rb\") as fx:\n",
    "    X = pickle.load(fx)"
   ]
  },
  {
   "cell_type": "code",
   "execution_count": 3,
   "metadata": {},
   "outputs": [],
   "source": [
    "with open(\"y.pickle\", \"rb\") as fy:\n",
    "    y = pickle.load(fy)"
   ]
  },
  {
   "cell_type": "code",
   "execution_count": 5,
   "metadata": {},
   "outputs": [
    {
     "name": "stdout",
     "output_type": "stream",
     "text": [
      "Fitting 3 folds for each of 4 candidates, totalling 12 fits\n"
     ]
    },
    {
     "name": "stderr",
     "output_type": "stream",
     "text": [
      "[Parallel(n_jobs=2)]: Using backend MultiprocessingBackend with 2 concurrent workers.\n"
     ]
    },
    {
     "name": "stdout",
     "output_type": "stream",
     "text": [
      "[CV] C=1, kernel=linear ..............................................\n",
      "[CV] C=1, kernel=linear ..............................................\n",
      "[CV] ............................... C=1, kernel=linear, total=11.8min\n",
      "[CV] C=1, kernel=linear ..............................................\n",
      "[CV] ............................... C=1, kernel=linear, total=11.9min\n",
      "[CV] C=1, kernel=rbf .................................................\n",
      "[CV] ............................... C=1, kernel=linear, total=12.3min\n",
      "[CV] C=1, kernel=rbf .................................................\n",
      "[CV] .................................. C=1, kernel=rbf, total=15.5min\n",
      "[CV] C=1, kernel=rbf .................................................\n",
      "[CV] .................................. C=1, kernel=rbf, total=15.2min\n",
      "[CV] C=10, kernel=linear .............................................\n",
      "[CV] .................................. C=1, kernel=rbf, total=15.8min\n",
      "[CV] C=10, kernel=linear .............................................\n",
      "[CV] .............................. C=10, kernel=linear, total=11.9min\n",
      "[CV] C=10, kernel=linear .............................................\n",
      "[CV] .............................. C=10, kernel=linear, total=11.8min\n",
      "[CV] C=10, kernel=rbf ................................................\n",
      "[CV] .............................. C=10, kernel=linear, total=12.3min\n",
      "[CV] C=10, kernel=rbf ................................................\n",
      "[CV] ................................. C=10, kernel=rbf, total=13.9min\n",
      "[CV] C=10, kernel=rbf ................................................\n",
      "[CV] ................................. C=10, kernel=rbf, total=13.6min\n",
      "[CV] ................................. C=10, kernel=rbf, total=14.8min\n"
     ]
    },
    {
     "name": "stderr",
     "output_type": "stream",
     "text": [
      "[Parallel(n_jobs=2)]: Done  12 out of  12 | elapsed: 83.8min finished\n"
     ]
    }
   ],
   "source": [
    "parameters = {'kernel':('linear', 'rbf'), 'C':[1, 10]}\n",
    "svc = svm.SVC(gamma=\"scale\")\n",
    "clf = GridSearchCV(svc, parameters, cv=3, verbose=2, n_jobs=2)\n",
    "with parallel_backend('multiprocessing'):\n",
    "    clf.fit(X, y)"
   ]
  },
  {
   "cell_type": "code",
   "execution_count": 8,
   "metadata": {},
   "outputs": [
    {
     "data": {
      "text/plain": [
       "{'C': 10, 'kernel': 'rbf'}"
      ]
     },
     "execution_count": 8,
     "metadata": {},
     "output_type": "execute_result"
    }
   ],
   "source": [
    "clf.best_params_"
   ]
  },
  {
   "cell_type": "code",
   "execution_count": 6,
   "metadata": {},
   "outputs": [
    {
     "data": {
      "text/plain": [
       "0.971818585473312"
      ]
     },
     "execution_count": 6,
     "metadata": {},
     "output_type": "execute_result"
    }
   ],
   "source": [
    "clf.best_score_"
   ]
  },
  {
   "cell_type": "code",
   "execution_count": 12,
   "metadata": {},
   "outputs": [
    {
     "data": {
      "text/plain": [
       "['10', 'rbf']"
      ]
     },
     "execution_count": 12,
     "metadata": {},
     "output_type": "execute_result"
    }
   ],
   "source": [
    "[str(i) for i in clf.best_params_.values()]"
   ]
  },
  {
   "cell_type": "code",
   "execution_count": 13,
   "metadata": {},
   "outputs": [],
   "source": [
    "model_params = \"_\".join([str(i) for i in clf.best_params_.values()])"
   ]
  },
  {
   "cell_type": "code",
   "execution_count": 14,
   "metadata": {},
   "outputs": [],
   "source": [
    "with open(f\"svm_{model_params}.pickle\", \"wb\") as model:\n",
    "    pickle.dump(clf, model)"
   ]
  },
  {
   "cell_type": "code",
   "execution_count": 15,
   "metadata": {},
   "outputs": [
    {
     "name": "stdout",
     "output_type": "stream",
     "text": [
      "upload: ./svm_10_rbf.pickle to s3://msc-project-pickle/svm_10_rbf.pickle\n"
     ]
    }
   ],
   "source": [
    "!aws s3 cp svm_10_rbf.pickle s3://msc-project-pickle/svm_10_rbf.pickle"
   ]
  }
 ],
 "metadata": {
  "instance_type": "ml.t3.2xlarge",
  "kernelspec": {
   "display_name": "Python 3 (Data Science)",
   "language": "python",
   "name": "python3__SAGEMAKER_INTERNAL__arn:aws:sagemaker:eu-west-1:470317259841:image/datascience-1.0"
  },
  "language_info": {
   "codemirror_mode": {
    "name": "ipython",
    "version": 3
   },
   "file_extension": ".py",
   "mimetype": "text/x-python",
   "name": "python",
   "nbconvert_exporter": "python",
   "pygments_lexer": "ipython3",
   "version": "3.7.6"
  }
 },
 "nbformat": 4,
 "nbformat_minor": 4
}
