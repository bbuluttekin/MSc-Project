{
  "nbformat": 4,
  "nbformat_minor": 0,
  "metadata": {
    "colab": {
      "name": "09-VGGNet-tl.ipynb",
      "provenance": [],
      "collapsed_sections": []
    },
    "kernelspec": {
      "name": "python3",
      "display_name": "Python 3"
    },
    "accelerator": "GPU"
  },
  "cells": [
    {
      "cell_type": "code",
      "metadata": {
        "id": "Q-voiO4CS8WX"
      },
      "source": [
        "!bash drive/My\\ Drive/datawithcred.sh"
      ],
      "execution_count": null,
      "outputs": []
    },
    {
      "cell_type": "code",
      "metadata": {
        "id": "tYbXFFnVTP5N"
      },
      "source": [
        "from pathlib import Path\n",
        "import tensorflow as tf\n",
        "from src.data.make_dataset import GetDataset\n",
        "from src.core.cloud import CloudTrainer"
      ],
      "execution_count": null,
      "outputs": []
    },
    {
      "cell_type": "code",
      "metadata": {
        "id": "rBBgZwv-Uxbh"
      },
      "source": [
        "tf.random.set_seed(123)"
      ],
      "execution_count": null,
      "outputs": []
    },
    {
      "cell_type": "code",
      "metadata": {
        "id": "zt55QZhSTxiI"
      },
      "source": [
        "dt = GetDataset(image_dims=(224, 224))"
      ],
      "execution_count": null,
      "outputs": []
    },
    {
      "cell_type": "code",
      "metadata": {
        "id": "XXfnx6yeT8DS"
      },
      "source": [
        "train = dt.make_train_data(Path(\"chest_xray/train\"))"
      ],
      "execution_count": null,
      "outputs": []
    },
    {
      "cell_type": "code",
      "metadata": {
        "id": "ToWrRKGNUHr-"
      },
      "source": [
        "val = dt.make_train_data(Path(\"chest_xray/test\"))"
      ],
      "execution_count": null,
      "outputs": []
    },
    {
      "cell_type": "code",
      "metadata": {
        "id": "ux4mc-tYU6bM"
      },
      "source": [
        "trainer = CloudTrainer(experiment_name=\"VGGNet16-transfer\", save_freq=30)"
      ],
      "execution_count": null,
      "outputs": []
    },
    {
      "cell_type": "code",
      "metadata": {
        "id": "xLHG6gxYVmX3"
      },
      "source": [
        "%load_ext tensorboard"
      ],
      "execution_count": null,
      "outputs": []
    },
    {
      "cell_type": "code",
      "metadata": {
        "id": "KhiB8x44Vqz9"
      },
      "source": [
        "%tensorboard --logdir=./drive/My\\ Drive/models --port=6006"
      ],
      "execution_count": null,
      "outputs": []
    },
    {
      "cell_type": "code",
      "metadata": {
        "id": "C6I-PAPG61wX"
      },
      "source": [
        "def get_model():\n",
        "    vgg = tf.keras.applications.VGG16(include_top=False, \n",
        "                                        weights=\"imagenet\", \n",
        "                                        input_shape=(dt.width, dt.height, 3))\n",
        "    model = tf.keras.models.Sequential()\n",
        "    for layer in vgg.layers:\n",
        "        layer.trainable = False\n",
        "        model.add(layer)\n",
        "    model.add(tf.keras.layers.Flatten())\n",
        "    model.add(tf.keras.layers.Dense(4096, activation=\"relu\"))\n",
        "    model.add(tf.keras.layers.Dropout(0.5))\n",
        "    model.add(tf.keras.layers.Dense(4096, activation=\"relu\"))\n",
        "    model.add(tf.keras.layers.Dropout(0.5))\n",
        "    model.add(tf.keras.layers.Dense(1, activation=\"sigmoid\"))\n",
        "    return model"
      ],
      "execution_count": null,
      "outputs": []
    },
    {
      "cell_type": "code",
      "metadata": {
        "id": "YYxdvs8D6AVE"
      },
      "source": [
        "def get_model():\n",
        "    vgg = tf.keras.applications.VGG16(include_top=False, \n",
        "                                    weights=\"imagenet\", \n",
        "                                    input_shape=(dt.width, dt.height, 3))\n",
        "    model = tf.keras.models.Sequential()\n",
        "    found_conv_layer = False\n",
        "    for layer in vgg.layers:\n",
        "        if not found_conv_layer:\n",
        "            layer.trainable = False\n",
        "        else:\n",
        "            layer.trainable = True\n",
        "        model.add(layer)\n",
        "        if layer.name == \"block4_conv3\":\n",
        "            found_conv_layer = True\n",
        "    model.add(tf.keras.layers.Flatten())\n",
        "    model.add(tf.keras.layers.Dense(4096, activation=\"relu\"))\n",
        "    model.add(tf.keras.layers.Dropout(0.5))\n",
        "    model.add(tf.keras.layers.Dense(4096, activation=\"relu\"))\n",
        "    model.add(tf.keras.layers.Dropout(0.5))\n",
        "    model.add(tf.keras.layers.Dense(1, activation=\"sigmoid\"))\n",
        "    return model"
      ],
      "execution_count": null,
      "outputs": []
    },
    {
      "cell_type": "code",
      "metadata": {
        "id": "flZCetOxVO48"
      },
      "source": [
        "trainer.add_keras_seq_model(get_model)"
      ],
      "execution_count": null,
      "outputs": []
    },
    {
      "cell_type": "code",
      "metadata": {
        "id": "OX61Dgck2bik"
      },
      "source": [
        "trainer.add_callbacks([\n",
        "        tf.keras.callbacks.ReduceLROnPlateau(verbose=1)\n",
        "])"
      ],
      "execution_count": null,
      "outputs": []
    },
    {
      "cell_type": "code",
      "metadata": {
        "id": "evGLFYkqVcql"
      },
      "source": [
        "trainer.compile(\n",
        "    optimizer=tf.keras.optimizers.Adam(learning_rate=0.01),\n",
        "    loss=\"binary_crossentropy\",\n",
        "    metrics=[\"accuracy\",\n",
        "             tf.keras.metrics.Precision(name='precision'),\n",
        "             tf.keras.metrics.Recall(name='recall')]\n",
        ")"
      ],
      "execution_count": null,
      "outputs": []
    },
    {
      "cell_type": "code",
      "metadata": {
        "id": "kUt6k4-GVggm"
      },
      "source": [
        "trainer.fit(\n",
        "    train,\n",
        "    validation_data=val,\n",
        "    epochs=30\n",
        ")"
      ],
      "execution_count": null,
      "outputs": []
    },
    {
      "cell_type": "code",
      "metadata": {
        "id": "0fSeuAnTcbqi"
      },
      "source": [
        "trainer.model.summary()"
      ],
      "execution_count": null,
      "outputs": []
    },
    {
      "cell_type": "code",
      "metadata": {
        "id": "Zrui_OU4DcR5"
      },
      "source": [
        "trainer.model.save(\"drive/My Drive/models/VGGNet16-transfer/final_model.h5\")"
      ],
      "execution_count": null,
      "outputs": []
    },
    {
      "cell_type": "code",
      "metadata": {
        "id": "IcFRB5AEK2ev"
      },
      "source": [
        "train = dt.make_balaced_dataset(majority_class=\"chest_xray/train/PNEUMONIA\",\n",
        "                                minority_class=\"chest_xray/train/NORMAL\",\n",
        "                                transformations=[\n",
        "                                    dt.image_flip_left_right,\n",
        "                                    dt.image_central_crop,\n",
        "                                    dt.image_adjust_saturation\n",
        "                                ])"
      ],
      "execution_count": null,
      "outputs": []
    },
    {
      "cell_type": "code",
      "metadata": {
        "id": "Jvi5S2wXL5Lf"
      },
      "source": [
        "aug_trainer = CloudTrainer(experiment_name=\"VGGNet16-balanced-tl2ft4\", save_freq=100)"
      ],
      "execution_count": null,
      "outputs": []
    },
    {
      "cell_type": "code",
      "metadata": {
        "id": "uBHK21X5MG0J"
      },
      "source": [
        "aug_trainer.add_keras_seq_model(get_model)"
      ],
      "execution_count": null,
      "outputs": []
    },
    {
      "cell_type": "code",
      "metadata": {
        "id": "nf518IdE3XDs"
      },
      "source": [
        "aug_trainer.add_callbacks([\n",
        "        tf.keras.callbacks.ReduceLROnPlateau(verbose=1)\n",
        "])"
      ],
      "execution_count": null,
      "outputs": []
    },
    {
      "cell_type": "code",
      "metadata": {
        "id": "MZaAglEoMKLR"
      },
      "source": [
        "aug_trainer.compile(\n",
        "    optimizer=tf.keras.optimizers.Adam(learning_rate=0.001),\n",
        "    loss=\"binary_crossentropy\",\n",
        "    metrics=[\"accuracy\",\n",
        "             tf.keras.metrics.Precision(name='precision'),\n",
        "             tf.keras.metrics.Recall(name='recall')]\n",
        ")"
      ],
      "execution_count": null,
      "outputs": []
    },
    {
      "cell_type": "code",
      "metadata": {
        "id": "IZv9l7BLMPyJ"
      },
      "source": [
        "aug_trainer.fit(\n",
        "    train,\n",
        "    validation_data=val,\n",
        "    epochs=50\n",
        ")"
      ],
      "execution_count": null,
      "outputs": []
    },
    {
      "cell_type": "code",
      "metadata": {
        "id": "fb8bhbIeMVVA"
      },
      "source": [
        "aug_trainer.model.save(\"drive/My Drive/models/VGGNet16-balanced-tl2/final_model.h5\")"
      ],
      "execution_count": null,
      "outputs": []
    },
    {
      "cell_type": "code",
      "metadata": {
        "id": "PRDftuU5HxMQ"
      },
      "source": [
        ""
      ],
      "execution_count": null,
      "outputs": []
    }
  ]
}